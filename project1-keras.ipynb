{
 "cells": [
  {
   "cell_type": "code",
   "execution_count": 36,
   "metadata": {},
   "outputs": [],
   "source": [
    "#import tensorflow as tf\n",
    "import numpy as np\n",
    "import time\n",
    "import pandas as pd\n",
    "from os import listdir\n",
    "from os.path import isfile, isdir, join\n",
    "from PIL import Image\n",
    "import cv2\n",
    "import math\n",
    "#import argparse\n",
    "#from tensorflow.examples.tutorials.mnist import input_data\n",
    "#mnist = input_data.read_data_sets('MNSIT_data',one_hot=True)\n",
    "\n",
    "def rotate(image, angle, center=None, scale=1.0):\n",
    "    # 獲取圖像尺寸\n",
    "    (h, w) = image.shape[:2]\n",
    "    # 若未指定旋轉中心，则將圖像中心設為旋轉中心\n",
    "    if center is None:\n",
    "        center = (w / 2, h / 2)\n",
    "    # 執行旋轉\n",
    "    M = cv2.getRotationMatrix2D(center, angle, scale)\n",
    "    rotated = cv2.warpAffine(image, M, (w, h))\n",
    "    # 返回旋轉後的圖像\n",
    "    return rotated\n",
    "\n",
    "def compute_accuracy(v_xs, v_ys):\n",
    "    global prediction\n",
    "    y_pre = sess.run(prediction, feed_dict={xs: v_xs, keep_prob: 1})\n",
    "    correct_prediction = tf.equal(tf.argmax(y_pre,1), tf.argmax(v_ys,1))\n",
    "    accuracy = tf.reduce_mean(tf.cast(correct_prediction, tf.float32))\n",
    "    result = sess.run(accuracy, feed_dict={xs: v_xs, ys: v_ys, keep_prob: 1})\n",
    "    return result\n",
    "def weight_variable(shape):\n",
    "    initial = tf.truncated_normal(shape, stddev=0.1) #類似normal分布，產生隨機變量\n",
    "    return tf.Variable(initial)\n",
    "def bias_variable(shape):\n",
    "    initial = tf.constant(0.1,shape=shape)\n",
    "    return tf.Variable(initial)\n",
    "def conv2d(x,W):\n",
    "    #stride [1,x_movement,y_movement,1],頭尾一定都是1\n",
    "    #Must have strides[0]=strides[3]=1\n",
    "    return tf.nn.conv2d(x,W,strides=[1,1,1,1],padding = 'SAME') \n",
    "def max_pool_2x2(x):\n",
    "    #stride [1,x_movement,y_movement,1]\n",
    "    return tf.nn.max_pool(x,ksize=[1,2,2,1],strides=[1,2,2,1],padding='SAME')\n",
    "batch_size = 150\n",
    "#batch_xs,batch_ys= mnist.train.next_batch(batch_size)\n",
    "#print(batch_xs)\n",
    "#print(batch_ys)\n"
   ]
  },
  {
   "cell_type": "code",
   "execution_count": 55,
   "metadata": {},
   "outputs": [],
   "source": [
    "##將cvs裡面答案轉為陣列\n",
    "df = pd.read_csv('validation.csv',header=None)  \n",
    "df = df.T\n",
    "df_temp = pd.get_dummies(df[0]) #One-hot編碼\n",
    "y_r = np.array(df_temp)\n",
    "##將驗證圖片讀檔，二值化並存成2維陣列200*(784)\n",
    "img_set = []\n",
    "\n",
    "#img_merge = np.zeros((20*28,10*28))#組合商品圖為一張，方便看\n",
    "\n",
    "# 指定要列出所有檔案的目錄\n",
    "mypath = \"./validation\"\n",
    "# 取得所有檔案與子目錄名稱\n",
    "files = listdir(mypath)\n",
    "# 以迴圈處理\n",
    "j=0\n",
    "size = 28\n",
    "for i,f in enumerate(files):\n",
    "    # 產生檔案的絕對路徑\n",
    "    fullpath = join(mypath, f)\n",
    "    #print(f)\n",
    "    # 判斷 fullpath 是檔案還是目錄\n",
    "    ro = False\n",
    "    if isfile(fullpath):\n",
    "        im = cv2.imread(fullpath,0)\n",
    "        image = cv2.imread(fullpath)\n",
    "        #img_merge[j%20*28:j%20*28+28,j//20*28: j//20*28+28]=im\n",
    "        retval, im_bin = cv2.threshold(im,215, 255, cv2.THRESH_BINARY_INV)\n",
    "        retval, labels,stats,centroids = cv2.connectedComponentsWithStats(im_bin)\n",
    "        x,y,w,h,area=stats[1]\n",
    "        cx,cy = centroids[1]\n",
    "\n",
    "        if w<5:\n",
    "            x=math.ceil(cx-3)\n",
    "            w=w+4\n",
    "        if h<5 :\n",
    "            y=math.ceil(cy-3)\n",
    "            h=h+6\n",
    "        if w > h+1 and w >10 :\n",
    "            #ro= True\n",
    "            img = rotate(im,90)\n",
    "            crop_img = img[x-1:x+w+1,y-1:y+h+1]\n",
    "        else:\n",
    "            crop_img = im[y:y+h,x:x+w]\n",
    "        im_h ,im_w= crop_img.shape\n",
    "        r = int(min(24/im_w,24/im_h))\n",
    "        if r<=0: r=1\n",
    "        if r>=4:r=2\n",
    "        crop_img = cv2.resize(crop_img,(im_w*r,im_h*r),interpolation=cv2.INTER_AREA)#interpolation=cv2.INTER_NEAREST\n",
    "        im_h ,im_w= crop_img.shape\n",
    "        u = int((size-im_h)/2)\n",
    "        v = int((size-im_w)/2)\n",
    "        crop_img = cv2.copyMakeBorder(crop_img,u,size-im_h-u,v,size-im_w-v, cv2.BORDER_CONSTANT,value=[255,255,255])\n",
    "        crop_img = cv2.erode(crop_img,(3,3), iterations=1)\n",
    "        #cv2.imwrite('./Desktop/new/'+f,crop_img)\n",
    "        \n",
    "        img = np.array(crop_img,dtype=np.float32).reshape(28,28,1)\n",
    "        img_set.append(1-img/255)\n",
    "        j+=1\n",
    "        "
   ]
  },
  {
   "cell_type": "code",
   "execution_count": 44,
   "metadata": {
    "collapsed": true
   },
   "outputs": [
    {
     "name": "stdout",
     "output_type": "stream",
     "text": [
      "Model: \"sequential_8\"\n",
      "_________________________________________________________________\n",
      "Layer (type)                 Output Shape              Param #   \n",
      "=================================================================\n",
      "conv2d_14 (Conv2D)           (None, 28, 28, 32)        832       \n",
      "_________________________________________________________________\n",
      "max_pooling2d_13 (MaxPooling (None, 14, 14, 32)        0         \n",
      "_________________________________________________________________\n",
      "conv2d_15 (Conv2D)           (None, 14, 14, 64)        51264     \n",
      "_________________________________________________________________\n",
      "max_pooling2d_14 (MaxPooling (None, 7, 7, 64)          0         \n",
      "_________________________________________________________________\n",
      "flatten_7 (Flatten)          (None, 3136)              0         \n",
      "_________________________________________________________________\n",
      "dense_13 (Dense)             (None, 800)               2509600   \n",
      "_________________________________________________________________\n",
      "dense_14 (Dense)             (None, 10)                8010      \n",
      "=================================================================\n",
      "Total params: 2,569,706\n",
      "Trainable params: 2,569,706\n",
      "Non-trainable params: 0\n",
      "_________________________________________________________________\n"
     ]
    }
   ],
   "source": [
    "batch_size = 150\n",
    "\n",
    "from keras.utils import np_utils\n",
    "from keras.datasets import mnist\n",
    "from keras.layers import Dense,Dropout,Flatten,Conv2D,MaxPooling2D\n",
    "from keras.models import Sequential\n",
    "import keras\n",
    "from keras import backend as K\n",
    "K.tensorflow_backend._get_available_gpus()\n",
    "from matplotlib.pyplot import imshow\n",
    "import numpy as np\n",
    "\n",
    "\n",
    "# Build the neural network! \n",
    "model = Sequential() \n",
    "# First convolutional layer with max pooling \n",
    "model.add(Conv2D(32, (5, 5), padding=\"same\", input_shape=(28, 28, 1), activation=\"relu\")) \n",
    "model.add(MaxPooling2D(pool_size=(2, 2), strides=(2, 2))) \n",
    "# Second convolutional layer with max pooling \n",
    "model.add(Conv2D(64, (5, 5), padding=\"same\", activation=\"relu\")) \n",
    "model.add(MaxPooling2D(pool_size=(2, 2), strides=(2, 2))) \n",
    "# Hidden layer with 500 nodes \n",
    "model.add(Flatten()) \n",
    "model.add(Dense(800, activation=\"relu\")) \n",
    "# Output layer with 10 nodes (one for each possible letter/number we predict) \n",
    "model.add(Dense(10, activation=\"softmax\")) \n",
    "# Ask Keras to build the TensorFlow model behind the scenes \n",
    "model.compile(loss=\"categorical_crossentropy\", optimizer=\"adam\", metrics=[\"accuracy\"])\n",
    "\n",
    "model.summary()\n"
   ]
  },
  {
   "cell_type": "code",
   "execution_count": 49,
   "metadata": {},
   "outputs": [],
   "source": [
    "# the data, shuffled and split between train and test sets\n",
    "(x_train, y_train), (x_test, y_test) = mnist.load_data()\n",
    "X_train = x_train.reshape(60000,28,28,1)/255\n",
    "X_test = x_test.reshape(10000,28,28,1)/255\n",
    "\n",
    "# convert class vectors to binary class matrices\n",
    "num_classes = 10\n",
    "y_train = keras.utils.to_categorical(y_train, num_classes)\n",
    "y_test = keras.utils.to_categorical(y_test, num_classes)"
   ]
  },
  {
   "cell_type": "markdown",
   "metadata": {},
   "source": [
    "## 訓練"
   ]
  },
  {
   "cell_type": "code",
   "execution_count": 50,
   "metadata": {
    "collapsed": true
   },
   "outputs": [
    {
     "name": "stdout",
     "output_type": "stream",
     "text": [
      "Train on 5000 samples, validate on 200 samples\n",
      "Epoch 1/25\n",
      "5000/5000 [==============================] - 5s 1ms/step - loss: 0.7508 - accuracy: 0.7710 - val_loss: 0.1777 - val_accuracy: 0.9500\n",
      "Epoch 2/25\n",
      "5000/5000 [==============================] - 5s 984us/step - loss: 0.1910 - accuracy: 0.9440 - val_loss: 0.0625 - val_accuracy: 0.9900\n",
      "Epoch 3/25\n",
      "5000/5000 [==============================] - 5s 1ms/step - loss: 0.1033 - accuracy: 0.9666 - val_loss: 0.0731 - val_accuracy: 0.9800\n",
      "Epoch 4/25\n",
      "5000/5000 [==============================] - 5s 1ms/step - loss: 0.0708 - accuracy: 0.9804 - val_loss: 0.0339 - val_accuracy: 0.9900\n",
      "Epoch 5/25\n",
      "5000/5000 [==============================] - 5s 1ms/step - loss: 0.0460 - accuracy: 0.9866 - val_loss: 0.0360 - val_accuracy: 0.9850\n",
      "Epoch 6/25\n",
      "5000/5000 [==============================] - 5s 1ms/step - loss: 0.0374 - accuracy: 0.9900 - val_loss: 0.0220 - val_accuracy: 0.9900\n",
      "Epoch 7/25\n",
      "5000/5000 [==============================] - 6s 1ms/step - loss: 0.0251 - accuracy: 0.9930 - val_loss: 0.0173 - val_accuracy: 1.0000\n",
      "Epoch 8/25\n",
      "5000/5000 [==============================] - 6s 1ms/step - loss: 0.0138 - accuracy: 0.9954 - val_loss: 0.0257 - val_accuracy: 0.9900\n",
      "Epoch 9/25\n",
      "5000/5000 [==============================] - 5s 1ms/step - loss: 0.0084 - accuracy: 0.9984 - val_loss: 0.0190 - val_accuracy: 0.9950\n",
      "Epoch 10/25\n",
      "5000/5000 [==============================] - 6s 1ms/step - loss: 0.0047 - accuracy: 0.9992 - val_loss: 0.0187 - val_accuracy: 0.9950\n",
      "Epoch 11/25\n",
      "5000/5000 [==============================] - 5s 1ms/step - loss: 0.0029 - accuracy: 0.9998 - val_loss: 0.0104 - val_accuracy: 0.9950\n",
      "Epoch 12/25\n",
      "5000/5000 [==============================] - 5s 1ms/step - loss: 0.0021 - accuracy: 1.0000 - val_loss: 0.0281 - val_accuracy: 0.9900\n",
      "Epoch 13/25\n",
      "5000/5000 [==============================] - 6s 1ms/step - loss: 0.0013 - accuracy: 1.0000 - val_loss: 0.0200 - val_accuracy: 0.9950\n",
      "Epoch 14/25\n",
      "5000/5000 [==============================] - 6s 1ms/step - loss: 7.7425e-04 - accuracy: 1.0000 - val_loss: 0.0154 - val_accuracy: 0.9950\n",
      "Epoch 15/25\n",
      "5000/5000 [==============================] - 6s 1ms/step - loss: 5.6052e-04 - accuracy: 1.0000 - val_loss: 0.0176 - val_accuracy: 0.9950\n",
      "Epoch 16/25\n",
      "5000/5000 [==============================] - 5s 1ms/step - loss: 4.3970e-04 - accuracy: 1.0000 - val_loss: 0.0175 - val_accuracy: 0.9950\n",
      "Epoch 17/25\n",
      "5000/5000 [==============================] - 6s 1ms/step - loss: 3.5454e-04 - accuracy: 1.0000 - val_loss: 0.0200 - val_accuracy: 0.9900\n",
      "Epoch 18/25\n",
      "5000/5000 [==============================] - 5s 1ms/step - loss: 3.0540e-04 - accuracy: 1.0000 - val_loss: 0.0175 - val_accuracy: 0.9950\n",
      "Epoch 19/25\n",
      "5000/5000 [==============================] - 5s 1ms/step - loss: 2.7206e-04 - accuracy: 1.0000 - val_loss: 0.0187 - val_accuracy: 0.9950\n",
      "Epoch 20/25\n",
      "5000/5000 [==============================] - 6s 1ms/step - loss: 2.4342e-04 - accuracy: 1.0000 - val_loss: 0.0193 - val_accuracy: 0.9950\n",
      "Epoch 21/25\n",
      "5000/5000 [==============================] - 6s 1ms/step - loss: 2.2572e-04 - accuracy: 1.0000 - val_loss: 0.0183 - val_accuracy: 0.9950\n",
      "Epoch 22/25\n",
      "5000/5000 [==============================] - 6s 1ms/step - loss: 1.9480e-04 - accuracy: 1.0000 - val_loss: 0.0174 - val_accuracy: 0.9950\n",
      "Epoch 23/25\n",
      "5000/5000 [==============================] - 5s 1ms/step - loss: 1.8247e-04 - accuracy: 1.0000 - val_loss: 0.0189 - val_accuracy: 0.9950\n",
      "Epoch 24/25\n",
      "5000/5000 [==============================] - 5s 1ms/step - loss: 1.8082e-04 - accuracy: 1.0000 - val_loss: 0.0187 - val_accuracy: 0.9950\n",
      "Epoch 25/25\n",
      "5000/5000 [==============================] - 5s 1ms/step - loss: 1.6420e-04 - accuracy: 1.0000 - val_loss: 0.0205 - val_accuracy: 0.9950\n"
     ]
    },
    {
     "data": {
      "text/plain": [
       "<keras.callbacks.callbacks.History at 0x1ef591479c8>"
      ]
     },
     "execution_count": 50,
     "metadata": {},
     "output_type": "execute_result"
    }
   ],
   "source": [
    "# Train the neural network \n",
    "model.fit(X_train[0:5000], y_train[0:5000], validation_data=(X_test[0:200], y_test[0:200]), batch_size=batch_size, epochs=25, verbose=1)"
   ]
  },
  {
   "cell_type": "markdown",
   "metadata": {},
   "source": [
    "## 測試"
   ]
  },
  {
   "cell_type": "code",
   "execution_count": 64,
   "metadata": {},
   "outputs": [
    {
     "name": "stdout",
     "output_type": "stream",
     "text": [
      "[7 7 8 8 1 7 3 4 4 5 5 6 6 3 2 2 1 1 0 0 2 0 8 8 2 3 3 8 8 5 5 6 6 0 3 3 1\n",
      " 2 4 3 0 0 1 1 7 2 3 4 6 5 5 4 4 3 9 9 8 9 8 7 9 6 3 6 1 9 5 2 2 1 4 1 1 9\n",
      " 1 0 4 7 7 9 0 6 3 4 6 2 7 5 2 8 9 1 8 4 1 1 7 7 6 0 7 7 5 0 4 4 4 4 4 4 4\n",
      " 4 0 7 5 6 1 1 0 1 9 4 3 0 9 5 7 6 3 3 2 9 4 5 5 5 6 9 9 8 9 8 8 8 8 8 8 8\n",
      " 8 7 7 9 8 6 6 5 5 4 4 3 3 2 2 1 1 1 0 9 7 6 6 3 4 9 9 2 1 5 8 9 4 1 3 8 7\n",
      " 7 3 3 4 3 2 3 5 2 2 8 2 3 3 2]\n",
      "Testing Accuracy: 0.67\n"
     ]
    }
   ],
   "source": [
    "result = model.predict_classes(img_set)\n",
    "print(result)\n",
    "score = 0\n",
    "for pre,ans in zip(list(result),list(np.array(df[0]))): \n",
    "    if pre ==ans:\n",
    "        score=score+1\n",
    "    else:pass\n",
    "print(\"Testing Accuracy:\",score/200)"
   ]
  },
  {
   "cell_type": "code",
   "execution_count": null,
   "metadata": {},
   "outputs": [],
   "source": []
  }
 ],
 "metadata": {
  "kernelspec": {
   "display_name": "Python 3",
   "language": "python",
   "name": "python3"
  },
  "language_info": {
   "codemirror_mode": {
    "name": "ipython",
    "version": 3
   },
   "file_extension": ".py",
   "mimetype": "text/x-python",
   "name": "python",
   "nbconvert_exporter": "python",
   "pygments_lexer": "ipython3",
   "version": "3.7.4"
  }
 },
 "nbformat": 4,
 "nbformat_minor": 4
}
